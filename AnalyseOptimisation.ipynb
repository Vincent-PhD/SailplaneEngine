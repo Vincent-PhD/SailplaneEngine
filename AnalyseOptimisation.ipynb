{
 "cells": [
  {
   "cell_type": "code",
   "execution_count": null,
   "metadata": {},
   "outputs": [],
   "source": [
    "import numpy as np\n",
    "import matplotlib.pyplot as plt\n",
    "from Engines.optimisation_engine import get_wing_performance\n",
    "import pandas as pd\n",
    "import pygad\n",
    "from config import (\n",
    "    Performance_Data_Path,\n",
    "    Planform_Coordinate_File,\n",
    "    Station_1_Airfoil_Coordinate_File,\n",
    "    Station_2_Airfoil_Coordinate_File,\n",
    "    Station_3_Airfoil_Coordinate_File,\n",
    "    Station_4_Airfoil_Coordinate_File,\n",
    "    Station_5_Airfoil_Coordinate_File,\n",
    "    Station_6_Airfoil_Coordinate_File,\n",
    "    V_Free_Stream,\n",
    "    Free_Stream_Speed_Base,\n",
    "    Lift_Over_Drag_Base\n",
    "\n",
    ")\n"
   ]
  },
  {
   "cell_type": "markdown",
   "metadata": {},
   "source": [
    "# Utility Functions"
   ]
  },
  {
   "cell_type": "code",
   "execution_count": null,
   "metadata": {},
   "outputs": [],
   "source": [
    "def generate_performance_plots(PerformanceFilePath):\n",
    "\n",
    "    optimised_lift_to_drag_performance = np.loadtxt(PerformanceFilePath)\n",
    "    plt.plot(\n",
    "        V_Free_Stream,\n",
    "        optimised_lift_to_drag_performance,\n",
    "        label=\"Optimised\",\n",
    "        marker=\"o\",\n",
    "    )\n",
    "    plt.plot(\n",
    "        Free_Stream_Speed_Base,\n",
    "        Lift_Over_Drag_Base,\n",
    "        label=\"Baseline\",\n",
    "        marker=\"o\",\n",
    "    )\n",
    "    plt.xlabel(\"Free stream speed [km/h]\")\n",
    "    plt.ylabel(\"Lift-to-drag ratio\")\n",
    "    plt.legend()\n",
    "    plt.grid()\n",
    "    plt.show(block=False)\n",
    "\n",
    "\n",
    "def generate_and_dump_planform_plots(\n",
    "    PlanformFilePath: str,\n",
    "):\n",
    "\n",
    "    wingspanincrements = np.insert(np.loadtxt(PlanformFilePath).T[2], 0, 0)\n",
    "    l2 = np.cumsum(wingspanincrements)\n",
    "    chord = np.insert(\n",
    "        np.loadtxt(PlanformFilePath).T[0],\n",
    "        5,\n",
    "        np.loadtxt(PlanformFilePath).T[1][-1],\n",
    "    )\n",
    "    plt.plot(l2, chord, color=\"darkblue\")\n",
    "    plt.plot(-l2, chord, color=\"darkblue\")\n",
    "    plt.plot(\n",
    "        [np.max(l2) for i in range(0, 50)],\n",
    "        np.linspace(0, np.min(chord), 50),\n",
    "        color=\"darkblue\",\n",
    "    )\n",
    "    plt.plot(\n",
    "        [np.min(-l2) for i in range(0, 50)],\n",
    "        np.linspace(0, np.min(chord), 50),\n",
    "        color=\"darkblue\",\n",
    "    )\n",
    "    plt.plot(\n",
    "        np.linspace(np.min(-l2), np.max(l2), 50),\n",
    "        [0 for i in range(0, 50)],\n",
    "        color=\"darkblue\",\n",
    "    )\n",
    "    plt.axis(\"equal\")\n",
    "    plt.grid()\n",
    "    plt.show(block=False)\n",
    "\n",
    "    return\n",
    "\n",
    "\n",
    "def generate_and_dump_airfoil_plot(AirfoilFilePath: str):\n",
    "    plt.figure()\n",
    "    plt.plot(np.loadtxt(AirfoilFilePath).T[0], np.loadtxt(AirfoilFilePath).T[1])\n",
    "    plt.grid()\n",
    "    plt.axis(\"equal\")\n",
    "    plt.xlabel(\"x/c\")\n",
    "    plt.ylabel(\"y/c\")\n",
    "    plt.title(AirfoilFilePath)\n",
    "    plt.show(block=False)\n",
    "    plt.clf()"
   ]
  },
  {
   "cell_type": "markdown",
   "metadata": {},
   "source": [
    "# Load Optimisation Results"
   ]
  },
  {
   "cell_type": "code",
   "execution_count": null,
   "metadata": {},
   "outputs": [],
   "source": [
    "# # Saving the GA instance.\n",
    "# filename = \"Data\\OptimisationData\\genetic\"  # The filename to which the instance is saved. The name is without extension.\n",
    "\n",
    "# # Loading the saved GA instance.\n",
    "# loaded_ga_instance = pygad.load(filename=filename)\n",
    "# loaded_ga_instance.plot_fitness()"
   ]
  },
  {
   "cell_type": "markdown",
   "metadata": {},
   "source": [
    "# Dump Best Performing Models"
   ]
  },
  {
   "cell_type": "code",
   "execution_count": null,
   "metadata": {},
   "outputs": [],
   "source": [
    "\n",
    "# get_wing_performance(\n",
    "\n",
    "\n",
    "# ga_instance=loaded_ga_instance,\n",
    "\n",
    "\n",
    "# solution=loaded_ga_instance.best_solution()[0],\n",
    "\n",
    "\n",
    "# solution_idx=loaded_ga_instance.best_solution()[1])\n",
    "\n"
   ]
  },
  {
   "cell_type": "markdown",
   "metadata": {},
   "source": [
    "# Generate Planform Plots"
   ]
  },
  {
   "cell_type": "code",
   "execution_count": null,
   "metadata": {},
   "outputs": [],
   "source": [
    "generate_and_dump_planform_plots(\n",
    "    PlanformFilePath=Planform_Coordinate_File,\n",
    ")"
   ]
  },
  {
   "cell_type": "markdown",
   "metadata": {},
   "source": [
    "# Generate Airfoil Plots"
   ]
  },
  {
   "cell_type": "code",
   "execution_count": null,
   "metadata": {},
   "outputs": [],
   "source": [
    "Plot_Optimal = True"
   ]
  },
  {
   "cell_type": "code",
   "execution_count": null,
   "metadata": {},
   "outputs": [],
   "source": [
    "if Plot_Optimal:\n",
    "\n",
    "    generate_and_dump_airfoil_plot(\n",
    "        AirfoilFilePath=\"Data/OptimisationData/Station_1.dat\"\n",
    "    ) \n",
    "\n",
    "else:\n",
    "\n",
    "    generate_and_dump_airfoil_plot(AirfoilFilePath=Station_1_Airfoil_Coordinate_File)"
   ]
  },
  {
   "cell_type": "code",
   "execution_count": null,
   "metadata": {},
   "outputs": [],
   "source": [
    "if Plot_Optimal:\n",
    "    generate_and_dump_airfoil_plot(\n",
    "        AirfoilFilePath=\"Data/OptimisationData/Station_2.dat\"\n",
    "    )\n",
    "\n",
    "else:\n",
    "\n",
    "    generate_and_dump_airfoil_plot(AirfoilFilePath=Station_2_Airfoil_Coordinate_File)"
   ]
  },
  {
   "cell_type": "code",
   "execution_count": null,
   "metadata": {},
   "outputs": [],
   "source": [
    "if Plot_Optimal:\n",
    "    generate_and_dump_airfoil_plot(\n",
    "        AirfoilFilePath=\"Data/OptimisationData/Station_3.dat\"\n",
    "    )\n",
    "\n",
    "else:\n",
    "\n",
    "    generate_and_dump_airfoil_plot(AirfoilFilePath=Station_3_Airfoil_Coordinate_File)"
   ]
  },
  {
   "cell_type": "code",
   "execution_count": null,
   "metadata": {},
   "outputs": [],
   "source": [
    "if Plot_Optimal:\n",
    "    generate_and_dump_airfoil_plot(\n",
    "        AirfoilFilePath=\"Data/OptimisationData/Station_4.dat\"\n",
    "    )  \n",
    "\n",
    "else:\n",
    "\n",
    "    generate_and_dump_airfoil_plot(AirfoilFilePath=Station_4_Airfoil_Coordinate_File)"
   ]
  },
  {
   "cell_type": "code",
   "execution_count": null,
   "metadata": {},
   "outputs": [],
   "source": [
    "if Plot_Optimal:\n",
    "\n",
    "    generate_and_dump_airfoil_plot(\n",
    "        AirfoilFilePath=\"Data/OptimisationData/Station_5.dat\"\n",
    "    )\n",
    "else:\n",
    "    generate_and_dump_airfoil_plot(AirfoilFilePath=Station_5_Airfoil_Coordinate_File)"
   ]
  },
  {
   "cell_type": "code",
   "execution_count": null,
   "metadata": {},
   "outputs": [],
   "source": [
    "if Plot_Optimal:\n",
    "    generate_and_dump_airfoil_plot(\n",
    "        AirfoilFilePath=\"Data/OptimisationData/Station_6.dat\"\n",
    "    )\n",
    "else:\n",
    "    generate_and_dump_airfoil_plot(AirfoilFilePath=Station_6_Airfoil_Coordinate_File)"
   ]
  },
  {
   "cell_type": "markdown",
   "metadata": {},
   "source": [
    "# Generate Performance Plots"
   ]
  },
  {
   "cell_type": "code",
   "execution_count": null,
   "metadata": {},
   "outputs": [],
   "source": [
    "generate_performance_plots(PerformanceFilePath=Performance_Data_Path)"
   ]
  },
  {
   "cell_type": "markdown",
   "metadata": {},
   "source": [
    "# Adhoc"
   ]
  },
  {
   "cell_type": "code",
   "execution_count": null,
   "metadata": {},
   "outputs": [],
   "source": [
    "def airfoil_quality_penalty(X:np.array, Y: np.array, weight = 1e3):\n",
    "        \n",
    "    \n",
    "        x_upper = X[0 : int(len(X) / 2 + 1)]\n",
    "        y_upper = Y[0 : int(len(X) / 2 + 1)]\n",
    "\n",
    "        x_lower = X[int(len(X) / 2) :]\n",
    "        y_lower = Y[int(len(X) / 2) :]\n",
    "\n",
    "        \"\"\"# Determine Critical Curvature Points\"\"\"\n",
    "\n",
    "        grad_top = []\n",
    "        grad_bot = []\n",
    "        top_grad_change = []\n",
    "        bot_grad_change = []\n",
    "\n",
    "        for i in range(1, len(x_upper)):\n",
    "            grad_top.append(((y_upper[i - 1] - y_upper[i]) / (x_upper[i - 1] - x_upper[i])))\n",
    "            grad_bot.append(((y_lower[i - 1] - y_lower[i]) / (x_lower[i - 1] - x_lower[i])))\n",
    "\n",
    "        for i in range(1, len(grad_top)):\n",
    "            if ((grad_top[i] < 0) & (grad_top[i - 1] > 0)) or (\n",
    "                (grad_top[i] > 0) & (grad_top[i - 1] < 0)\n",
    "            ):\n",
    "                top_grad_change.append(i)\n",
    "            if ((grad_bot[i] < 0) & (grad_bot[i - 1] > 0)) or (\n",
    "                (grad_bot[i] > 0) & (grad_bot[i - 1] < 0)\n",
    "            ):\n",
    "                bot_grad_change.append(i)\n",
    "\n",
    "        return grad_top, grad_bot, top_grad_change, bot_grad_change"
   ]
  },
  {
   "cell_type": "code",
   "execution_count": 250,
   "metadata": {},
   "outputs": [],
   "source": [
    "# X = np.loadtxt(Station_1_Airfoil_Coordinate_File).T[0]\n",
    "# Y = np.loadtxt(Station_1_Airfoil_Coordinate_File).T[1]\n",
    "\n",
    "X = np.loadtxt(\"Data/OptimisationData/Station_6.dat\").T[0]\n",
    "Y = np.loadtxt(\"Data/OptimisationData/Station_6.dat\").T[1]\n"
   ]
  },
  {
   "cell_type": "code",
   "execution_count": 251,
   "metadata": {},
   "outputs": [],
   "source": [
    "grad_top, grad_bot, top_grad_change, bot_grad_change = airfoil_quality_penalty(X,\n",
    "                        Y, \n",
    "                        weight = 1e3)"
   ]
  },
  {
   "cell_type": "code",
   "execution_count": 252,
   "metadata": {},
   "outputs": [],
   "source": [
    "x_upper = X[0 : int(len(X) / 2 + 1)]\n",
    "y_upper = Y[0 : int(len(X) / 2 + 1)]\n",
    "\n",
    "x_lower = X[int(len(X) / 2) :]\n",
    "y_lower = Y[int(len(X) / 2) :]"
   ]
  },
  {
   "cell_type": "code",
   "execution_count": 253,
   "metadata": {},
   "outputs": [
    {
     "data": {
      "text/plain": [
       "[20]"
      ]
     },
     "execution_count": 253,
     "metadata": {},
     "output_type": "execute_result"
    }
   ],
   "source": [
    "bot_grad_change"
   ]
  },
  {
   "cell_type": "code",
   "execution_count": 254,
   "metadata": {},
   "outputs": [
    {
     "data": {
      "text/plain": [
       "[28]"
      ]
     },
     "execution_count": 254,
     "metadata": {},
     "output_type": "execute_result"
    }
   ],
   "source": [
    "top_grad_change"
   ]
  },
  {
   "cell_type": "code",
   "execution_count": 255,
   "metadata": {},
   "outputs": [
    {
     "data": {
      "image/png": "[encoded data removed]",
      "text/plain": [
       "<Figure size 640x480 with 1 Axes>"
      ]
     },
     "metadata": {},
     "output_type": "display_data"
    }
   ],
   "source": [
    "# Plot top and bottom critical points\n",
    "\n",
    "plt.plot(x_upper,y_upper, c=\"darkred\", label=\"Sampled\")\n",
    "plt.plot(x_lower,y_lower, c=\"darkred\")\n",
    "for tp in top_grad_change:\n",
    "    plt.plot(x_upper[tp],y_upper[tp], \"o\", c=\"darkblue\")\n",
    "for bp in bot_grad_change:\n",
    "    plt.plot(x_lower[bp],y_lower[bp], \"o\", c=\"darkblue\")\n",
    "# plt.axis(\"equal\")\n",
    "plt.show()"
   ]
  },
  {
   "cell_type": "markdown",
   "metadata": {},
   "source": [
    "# Smooth Airfoil"
   ]
  },
  {
   "cell_type": "code",
   "execution_count": 256,
   "metadata": {},
   "outputs": [],
   "source": [
    "from aerosandbox.geometry.airfoil.airfoil_families import get_kulfan_parameters, get_kulfan_coordinates"
   ]
  },
  {
   "cell_type": "code",
   "execution_count": 257,
   "metadata": {},
   "outputs": [],
   "source": [
    "stack = np.vstack([X,Y]).T"
   ]
  },
  {
   "cell_type": "code",
   "execution_count": 258,
   "metadata": {},
   "outputs": [],
   "source": [
    "wte =get_kulfan_parameters(coordinates=stack)"
   ]
  },
  {
   "cell_type": "code",
   "execution_count": 259,
   "metadata": {},
   "outputs": [],
   "source": [
    "crds = get_kulfan_coordinates(lower_weights=wte[\"lower_weights\"], \n",
    "                              upper_weights=wte[\"upper_weights\"], \n",
    "                              TE_thickness=wte[\"TE_thickness\"], \n",
    "                              leading_edge_weight=wte[\"leading_edge_weight\"])"
   ]
  },
  {
   "cell_type": "code",
   "execution_count": 260,
   "metadata": {},
   "outputs": [
    {
     "data": {
      "text/plain": [
       "(-0.05, 1.05, -0.04313776041128302, 0.10234338686229029)"
      ]
     },
     "execution_count": 260,
     "metadata": {},
     "output_type": "execute_result"
    },
    {
     "data": {
      "image/png": "[encoded data removed]",
      "text/plain": [
       "<Figure size 640x480 with 1 Axes>"
      ]
     },
     "metadata": {},
     "output_type": "display_data"
    }
   ],
   "source": [
    "plt.plot(crds.T[0],crds.T[1])\n",
    "plt.axis(\"equal\")"
   ]
  },
  {
   "cell_type": "code",
   "execution_count": 261,
   "metadata": {},
   "outputs": [],
   "source": [
    "np.savetxt(X=crds,fname=\"/home/megi/Station_6_Smooth.dat\")"
   ]
  },
  {
   "cell_type": "markdown",
   "metadata": {},
   "source": [
    "# Run Comparative Analysis (Ad-hoc)"
   ]
  },
  {
   "cell_type": "code",
   "execution_count": 273,
   "metadata": {},
   "outputs": [],
   "source": [
    "import pyfoil"
   ]
  },
  {
   "cell_type": "code",
   "execution_count": 345,
   "metadata": {},
   "outputs": [],
   "source": [
    "st_6_opt  = pyfoil.Airfoil.import_from_dat(\"/home/megi/Station_6_Smooth.dat\").resample(170)\n",
    "st_6_base = pyfoil.Airfoil.import_from_dat(\"/home/megi/Downloads/Airfoil_Station_6_smooth.dat\").resample(170)"
   ]
  },
  {
   "cell_type": "code",
   "execution_count": 346,
   "metadata": {},
   "outputs": [
    {
     "data": {
      "image/svg+xml": [
       "<svg baseProfile=\"full\" height=\"100%\" version=\"1.1\" viewBox=\"-0.1,-0.25,1.2,0.5\" width=\"100%\" xmlns=\"http://www.w3.org/2000/svg\">\n",
       "<defs><style type=\"text/css\">\n",
       "            line { vector-effect: non-scaling-stroke; stroke-width: 1; fill: none}\n",
       "            polyline { vector-effect: non-scaling-stroke; stroke-width: 1; fill: none}\n",
       "        </style></defs><g transform=\"scale(1,-1)\"><polyline stroke=\"black\" stroke-width=\"0.25\" points=\"1.0,0.0004861711417714198 0.9815210950408702,0.001990843734719873 0.9630485006108551,0.004092615288667881 0.94458852508403,0.006713337883603377 0.926147472525126,0.009780552332310264 0.907731640536698,0.013219337083305601 0.8893473181084992,0.016960015691925134 0.8710007834697967,0.02093906626655724 0.8526983019453624,0.02509019281634009 0.8344461238158701,0.029361110340876226 0.8162504821834297,0.03369951522894527 0.7981175908429897,0.03805899417084568 0.7800536421603315,0.04239835213474754 0.7620648049573812,0.04668069010446718 0.7441572224055644,0.050875732735754915 0.726337009927917,0.05495422356196763 0.7086102531106754,0.05889367866775108 0.6909830056250524,0.0626734450037896 0.6734612871599167,0.06628038907367798 0.6560510813660718,0.0696930332459869 0.6387583338128471,0.07290920584264576 0.6215889499576897,0.07592020036735829 0.6045487931294575,0.07871310093405381 0.5876436825260964,0.08128801541852523 0.5708793912273912,0.08364468302582286 0.5542616442234619,0.08578215903241691 0.5377961164596867,0.08770095267282989 0.5214884308987136,0.08940285976554227 0.5053441566002211,0.09089079416929087 0.4893688068190929,0.09216861994258006 0.4735678371226442,0.09324098613851753 0.4579466435275508,0.09411316632807253 0.44251056065711447,0.09479090514184577 0.4272648599194948,0.09528027428579974 0.4122147477075269,0.09558754055877579 0.3973653636207438,0.09571904833110843 0.38272177871020713,0.09568111870525182 0.36828899374674906,0.09547996716424478 0.35407193751321264,0.09512164093812538 0.34007546512127745,0.09461197661921082 0.3263043563534427,0.09395538136595663 0.3127633140307374,0.09315236356576906 0.299456962406709,0.0922136248504838 0.2863898455882479,0.09114410242812195 0.27356642598377584,0.08994858897669622 0.26099108277934085,0.08863179204017135 0.24866811044312676,0.08719208424019367 0.23660171725889714,0.0856368727100805 0.22479602388887007,0.08397425569481846 0.213255061966517,0.08220935186283389 0.20198277271976062,0.08034519641245283 0.19098300562505238,0.07838105728451474 0.1802595170927787,0.07633174678107535 0.16981596918444936,0.07420391093125274 0.15965592836210724,0.0720013591151575 0.1497828642703859,0.06972658127362229 0.14020014855162766,0.06739607711800824 0.13091105369447179,0.06501821560336665 0.12191875191630219,0.06259426180467466 0.11322631407993813,0.0601370444575281 0.10483670864493773,0.0576595524139809 0.0967528006538711,0.05516819876487897 0.08897735075391182,0.0526665346394073 0.0815130142540769,0.05017132462698854 0.0743623402184437,0.04769048923130153 0.06752777059564416,0.04522158176277174 0.061011639384943445,0.042780608696746256 0.05481617183918046,0.04037338709481682 0.04894348370484651,0.037995538964170156 0.04339558049955929,0.035656219650159034 0.038174356827180934,0.03335946767956155 0.03328159573081257,0.031095879090692412 0.028718968083886225,0.02886900465372144 0.0244880320195634,0.026680596784634563 0.020590232398634094,0.024513322394687686 0.01702690031609821,0.022367439276456534 0.01379925264659745,0.020243728223484737 0.010908391628854038,0.018113237726707233 0.00835530448925726,0.015977988812456812 0.006140863104726291,0.013841308602817166 0.004265823704965534,0.011654611649581578 0.0027308266142119855,0.009432140475425253 0.0015363960325660536,0.007190240982268191 0.000682939856977098,0.0048251204270877215 0.00017074954194728809,0.002361484231178868 0.0,0.0 0.00017074954194728809,-0.0007682400192511012 0.000682939856977098,-0.0016671692967182078 0.0015363960325660536,-0.002620383828125792 0.0027308266142119855,-0.003600176944491535 0.004265823704965414,-0.00462318213452782 0.006140863104726291,-0.005667078457223307 0.00835530448925726,-0.006706857306794377 0.010908391628854038,-0.007747536775774297 0.01379925264659745,-0.008773467541058674 0.01702690031609821,-0.009768779254376865 0.020590232398634094,-0.010739741902376676 0.024488032019563264,-0.01167759937730102 0.028718968083886,-0.012575426518960594 0.03328159573081257,-0.013442924230732688 0.038174356827180844,-0.014278501967814362 0.0433955804995592,-0.015082237086340298 0.048943483704846316,-0.01586612341730256 0.05481617183918046,-0.016633979748127997 0.061011639384943445,-0.017389585564401802 0.06752777059564416,-0.01814446238699453 0.07436234021844358,-0.018904313213539952 0.08151301425407702,-0.019673182092343814 0.08897735075391157,-0.020459005110220124 0.0967528006538711,-0.021265358201050334 0.10483670864493759,-0.022094273722560172 0.113226314079938,-0.022947420074381587 0.12191875191630219,-0.023824331103596753 0.13091105369447148,-0.024722550279324833 0.14020014855162752,-0.025637556671214545 0.14978286427038606,-0.026564638536138076 0.15965592836210724,-0.02749738955417369 0.16981596918444936,-0.02842597108426257 0.18025951709277924,-0.02934232248541484 0.19098300562505238,-0.03023832757708412 0.20198277271976045,-0.03110488466125993 0.21325506196651645,-0.03192874175102238 0.22479602388886988,-0.03270337129861698 0.23660171725889675,-0.033421839894669216 0.24866811044312656,-0.0340769952186271 0.26099108277934085,-0.034660782649254804 0.27356642598377606,-0.03516654113401559 0.2863898455882476,-0.03559444638704964 0.299456962406709,-0.03594229150076128 0.3127633140307376,-0.03620909269706793 0.32630435635344257,-0.03639501871429282 0.3400754651212777,-0.036498476041478545 0.35407193751321303,-0.03652440251401422 0.36828899374674895,-0.036476126953576805 0.3827217787102069,-0.03635672043769508 0.3973653636207437,-0.03616942155103706 0.4122147477075268,-0.03591743132945074 0.4272648599194947,-0.03560373424947117 0.44251056065711397,-0.035230959950194 0.4579466435275507,-0.03480129792956265 0.473567837122644,-0.03431647356866426 0.4893688068190933,-0.03377778873248001 0.5053441566002213,-0.03318622425020284 0.5214884308987136,-0.03254259529331856 0.5377961164596867,-0.031847744630080936 0.5542616442234615,-0.031102753559099607 0.5708793912273911,-0.0303091466062519 0.5876436825260964,-0.029469064317357005 0.6045487931294576,-0.0285853790627288 0.6215889499576892,-0.02766138632263466 0.6387583338128469,-0.02670098391546445 0.6560510813660718,-0.025710225520605593 0.6734612871599167,-0.02469433847179278 0.6909830056250528,-0.023657853344423503 0.7086102531106753,-0.02260602226516294 0.7263370099279173,-0.021541971017387643 0.744157222405564,-0.020467135240575758 0.7620648049573813,-0.019380137920862423 0.7800536421603314,-0.018276729607983145 0.7981175908429897,-0.017148667204828955 0.8162504821834294,-0.01598354932525291 0.8344461238158698,-0.014766605229629035 0.8526983019453621,-0.01347980119815649 0.8710007834697965,-0.012104504624936402 0.8893473181084988,-0.010627319354363195 0.9077316405366977,-0.009036891075538157 0.9261474725251255,-0.007338504006939859 0.9445885250840298,-0.0055565798025416354 0.9630485006108551,-0.0037460441157537265 0.98152109504087,-0.002004210658329505 0.9999999999999999,-0.0004861711417714277\"></polyline><polyline stroke=\"red\" stroke-width=\"0.25\" points=\"0.0,0.0 0.00017074954194728809,0.0007966221059638835 0.000682939856977098,0.0015789755651847569 0.0015363960325660536,0.0022849285770711997 0.0027308266142119855,0.0029159817654668594 0.004265823704965474,0.0035157147575268785 0.004265823704965474,0.0035157147575268785 0.006140863104726291,0.0040871150727969305 0.00835530448925726,0.004635565752831218 0.010908391628854038,0.005182850475466468 0.01379925264659745,0.0057351303412130315 0.01702690031609821,0.0062993300110398345 0.020590232398634094,0.006886790246155504 0.02448803201956333,0.007501498703666773 0.02448803201956333,0.007501498703666773 0.02871896808388611,0.008146789067380422 0.02871896808388611,0.008146789067380422 0.03328159573081257,0.00882647742997986 0.038174356827180886,0.009540482855873594 0.038174356827180886,0.009540482855873594 0.043395580499559244,0.01028699128190937 0.043395580499559244,0.01028699128190937 0.04894348370484641,0.0110647077734338 0.04894348370484641,0.0110647077734338 0.05481617183918046,0.01186970367334441 0.061011639384943445,0.012695511566172227 0.06752777059564416,0.013538559687888602 0.07436234021844365,0.014393088008880787 0.07436234021844365,0.014393088008880787 0.08151301425407695,0.015249071267322365 0.08151301425407695,0.015249071267322365 0.0889773507539117,0.016103764764593586 0.0889773507539117,0.016103764764593586 0.0967528006538711,0.016951420281914313 0.10483670864493766,0.017782639345710363 0.10483670864493766,0.017782639345710363 0.11322631407993806,0.018594812191573253 0.11322631407993806,0.018594812191573253 0.12191875191630219,0.019384965350538956 0.13091105369447165,0.02014783266202091 0.13091105369447165,0.02014783266202091 0.1402001485516276,0.02087926022339685 0.1402001485516276,0.02087926022339685 0.14978286427038598,0.021580971368742107 0.14978286427038598,0.021580971368742107 0.15965592836210724,0.022251984780491903 0.16981596918444936,0.022888969923495088 0.180259517092779,0.023494712147830252 0.180259517092779,0.023494712147830252 0.19098300562505238,0.02407136485371531 0.20198277271976053,0.02462015587559645 0.20198277271976053,0.02462015587559645 0.21325506196651672,0.025140305055905754 0.21325506196651672,0.025140305055905754 0.22479602388887,0.025635442198100745 0.22479602388887,0.025635442198100745 0.23660171725889695,0.026107516407705637 0.23660171725889695,0.026107516407705637 0.24866811044312664,0.026557544510783286 0.24866811044312664,0.026557544510783286 0.26099108277934085,0.026985504695458275 0.27356642598377595,0.027391023921340317 0.27356642598377595,0.027391023921340317 0.28638984558824776,0.02777482802053615 0.28638984558824776,0.02777482802053615 0.299456962406709,0.028135666674861254 0.31276331403073754,0.028471635434350565 0.31276331403073754,0.028471635434350565 0.3263043563534426,0.028780181325831905 0.3263043563534426,0.028780181325831905 0.34007546512127756,0.029056750288866146 0.34007546512127756,0.029056750288866146 0.35407193751321286,0.02929861921205558 0.35407193751321286,0.02929861921205558 0.368288993746749,0.029501920105333986 0.368288993746749,0.029501920105333986 0.382721778710207,0.02966219913377837 0.382721778710207,0.02966219913377837 0.39736536362074376,0.02977481339003569 0.39736536362074376,0.02977481339003569 0.41221474770752686,0.029835054614662522 0.41221474770752686,0.029835054614662522 0.42726485991949475,0.029838270018164283 0.42726485991949475,0.029838270018164283 0.44251056065711425,0.02977997259582589 0.44251056065711425,0.02977997259582589 0.45794664352755077,0.029655934199254934 0.45794664352755077,0.029655934199254934 0.4735678371226441,0.029462256284926637 0.4735678371226441,0.029462256284926637 0.4893688068190931,0.029195415605050026 0.4893688068190931,0.029195415605050026 0.5053441566002213,0.028852284959544013 0.5053441566002213,0.028852284959544013 0.5214884308987136,0.028430132236111856 0.5377961164596867,0.027926604021374472 0.5542616442234617,0.027339702736658655 0.5542616442234617,0.027339702736658655 0.5708793912273911,0.02666776820978548 0.5708793912273911,0.02666776820978548 0.5876436825260964,0.025909475550584114 0.6045487931294575,0.02506386093566251 0.6045487931294575,0.02506386093566251 0.6215889499576894,0.024129407022361816 0.6215889499576894,0.024129407022361816 0.638758333812847,0.02310411096359066 0.638758333812847,0.02310411096359066 0.6560510813660718,0.02199140386269065 0.6734612871599167,0.020793025300942597 0.6909830056250525,0.019507795829683046 0.6909830056250525,0.019507795829683046 0.7086102531106753,0.01814382820129407 0.7086102531106753,0.01814382820129407 0.7263370099279172,0.016706126272289994 0.7263370099279172,0.016706126272289994 0.7441572224055641,0.015204298747589579 0.7441572224055641,0.015204298747589579 0.7620648049573813,0.013650276091802378 0.7620648049573813,0.013650276091802378 0.7800536421603315,0.0120608112633822 0.7800536421603315,0.0120608112633822 0.7981175908429897,0.010455163483008362 0.8162504821834295,0.008857982951846182 0.8162504821834295,0.008857982951846182 0.83444612381587,0.007297252555623595 0.83444612381587,0.007297252555623595 0.8526983019453622,0.0058051958090918 0.8526983019453622,0.0058051958090918 0.8710007834697966,0.0044172808208104205 0.8710007834697966,0.0044172808208104205 0.889347318108499,0.0031663481687809695 0.889347318108499,0.0031663481687809695 0.9077316405366979,0.002091223003883723 0.9077316405366979,0.002091223003883723 0.9261474725251257,0.0012210241626852015 0.9261474725251257,0.0012210241626852015 0.9445885250840299,0.0005783790405308707 0.9445885250840299,0.0005783790405308707 0.9630485006108551,0.0001732855864570778 0.9815210950408702,-6.683461804816125e-06 0.9815210950408702,-6.683461804816125e-06 1.0,-3.957337929572091e-18 1.0,-3.957337929572091e-18\"></polyline></g></svg>"
      ],
      "text/plain": [
       "<pyfoil.airfoil.Airfoil at 0x7ef6543749a0>"
      ]
     },
     "execution_count": 346,
     "metadata": {},
     "output_type": "execute_result"
    }
   ],
   "source": [
    "st_6_opt"
   ]
  },
  {
   "cell_type": "code",
   "execution_count": 347,
   "metadata": {},
   "outputs": [],
   "source": [
    "aoa_start = -25\n",
    "aoa_stop=25\n",
    "steps = 30\n",
    "df_6_opt = st_6_opt.xfoil_polar(aoa_start=aoa_start, aoa_end=aoa_stop, steps=steps, degree=True)\n",
    "df_6_base = st_6_base.xfoil_polar(aoa_start=aoa_start, aoa_end=aoa_stop, steps=steps, degree=True)"
   ]
  },
  {
   "cell_type": "code",
   "execution_count": 348,
   "metadata": {},
   "outputs": [
    {
     "data": {
      "image/png": "[encoded data removed]",
      "text/plain": [
       "<Figure size 640x480 with 1 Axes>"
      ]
     },
     "metadata": {},
     "output_type": "display_data"
    }
   ],
   "source": [
    "plt.plot(df_6_opt[\"aoa\"], df_6_opt[\"cl\"]/df_6_opt[\"cd\"], label=\"Optimised\")\n",
    "plt.plot(df_6_base[\"aoa\"], df_6_base[\"cl\"]/df_6_base[\"cd\"], label=\"Baseline-PhD\")\n",
    "plt.grid()\n",
    "plt.legend()\n",
    "plt.show()"
   ]
  },
  {
   "cell_type": "code",
   "execution_count": null,
   "metadata": {},
   "outputs": [],
   "source": []
  }
 ],
 "metadata": {
  "kernelspec": {
   "display_name": "postdoc_tensorflow",
   "language": "python",
   "name": "python3"
  },
  "language_info": {
   "codemirror_mode": {
    "name": "ipython",
    "version": 3
   },
   "file_extension": ".py",
   "mimetype": "text/x-python",
   "name": "python",
   "nbconvert_exporter": "python",
   "pygments_lexer": "ipython3",
   "version": "3.10.12"
  }
 },
 "nbformat": 4,
 "nbformat_minor": 2
}
