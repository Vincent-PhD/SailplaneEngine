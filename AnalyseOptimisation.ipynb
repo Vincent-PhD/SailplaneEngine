{
 "cells": [
  {
   "cell_type": "code",
   "execution_count": null,
   "metadata": {},
   "outputs": [],
   "source": [
    "import numpy as np\n",
    "import matplotlib.pyplot as plt\n",
    "from Engines.optimisation_engine import get_wing_performance\n",
    "import pandas as pd\n",
    "import pygad\n",
    "from config import (\n",
    "    Performance_Data_Path,\n",
    "    Planform_Coordinate_File,\n",
    "    Station_1_Airfoil_Coordinate_File,\n",
    "    Station_2_Airfoil_Coordinate_File,\n",
    "    Station_3_Airfoil_Coordinate_File,\n",
    "    Station_4_Airfoil_Coordinate_File,\n",
    "    Station_5_Airfoil_Coordinate_File,\n",
    "    Station_6_Airfoil_Coordinate_File,\n",
    "    V_Free_Stream,\n",
    "    Free_Stream_Speed_Base,\n",
    "    Lift_Over_Drag_Base\n",
    "\n",
    ")\n"
   ]
  },
  {
   "cell_type": "markdown",
   "metadata": {},
   "source": [
    "# Utility Functions"
   ]
  },
  {
   "cell_type": "code",
   "execution_count": null,
   "metadata": {},
   "outputs": [],
   "source": [
    "def generate_performance_plots(PerformanceFilePath):\n",
    "\n",
    "    optimised_lift_to_drag_performance = np.loadtxt(PerformanceFilePath)\n",
    "    plt.plot(\n",
    "        V_Free_Stream,\n",
    "        optimised_lift_to_drag_performance,\n",
    "        label=\"Optimised\",\n",
    "        marker=\"o\",\n",
    "    )\n",
    "    plt.plot(\n",
    "        Free_Stream_Speed_Base,\n",
    "        Lift_Over_Drag_Base,\n",
    "        label=\"Baseline\",\n",
    "        marker=\"o\",\n",
    "    )\n",
    "    plt.xlabel(\"Free stream speed [km/h]\")\n",
    "    plt.ylabel(\"Lift-to-drag ratio\")\n",
    "    plt.legend()\n",
    "    plt.grid()\n",
    "    plt.show(block=False)\n",
    "\n",
    "\n",
    "def generate_and_dump_planform_plots(\n",
    "    PlanformFilePath: str,\n",
    "):\n",
    "\n",
    "    wingspanincrements = np.insert(np.loadtxt(PlanformFilePath).T[2], 0, 0)\n",
    "    l2 = np.cumsum(wingspanincrements)\n",
    "    chord = np.insert(\n",
    "        np.loadtxt(PlanformFilePath).T[0],\n",
    "        5,\n",
    "        np.loadtxt(PlanformFilePath).T[1][-1],\n",
    "    )\n",
    "    plt.plot(l2, chord, color=\"darkblue\")\n",
    "    plt.plot(-l2, chord, color=\"darkblue\")\n",
    "    plt.plot(\n",
    "        [np.max(l2) for i in range(0, 50)],\n",
    "        np.linspace(0, np.min(chord), 50),\n",
    "        color=\"darkblue\",\n",
    "    )\n",
    "    plt.plot(\n",
    "        [np.min(-l2) for i in range(0, 50)],\n",
    "        np.linspace(0, np.min(chord), 50),\n",
    "        color=\"darkblue\",\n",
    "    )\n",
    "    plt.plot(\n",
    "        np.linspace(np.min(-l2), np.max(l2), 50),\n",
    "        [0 for i in range(0, 50)],\n",
    "        color=\"darkblue\",\n",
    "    )\n",
    "    plt.axis(\"equal\")\n",
    "    plt.grid()\n",
    "    plt.show(block=False)\n",
    "\n",
    "    return\n",
    "\n",
    "\n",
    "def generate_and_dump_airfoil_plot(AirfoilFilePath: str):\n",
    "    plt.figure()\n",
    "    plt.plot(np.loadtxt(AirfoilFilePath).T[0], np.loadtxt(AirfoilFilePath).T[1])\n",
    "    plt.grid()\n",
    "    plt.axis(\"equal\")\n",
    "    plt.xlabel(\"x/c\")\n",
    "    plt.ylabel(\"y/c\")\n",
    "    plt.title(AirfoilFilePath)\n",
    "    plt.show(block=False)\n",
    "    plt.clf()"
   ]
  },
  {
   "cell_type": "markdown",
   "metadata": {},
   "source": [
    "# Load Optimisation Results"
   ]
  },
  {
   "cell_type": "code",
   "execution_count": null,
   "metadata": {},
   "outputs": [],
   "source": [
    "# # Saving the GA instance.\n",
    "# filename = \"Data\\OptimisationData\\genetic\"  # The filename to which the instance is saved. The name is without extension.\n",
    "\n",
    "# # Loading the saved GA instance.\n",
    "# loaded_ga_instance = pygad.load(filename=filename)\n",
    "# loaded_ga_instance.plot_fitness()"
   ]
  },
  {
   "cell_type": "markdown",
   "metadata": {},
   "source": [
    "# Dump Best Performing Models"
   ]
  },
  {
   "cell_type": "code",
   "execution_count": null,
   "metadata": {},
   "outputs": [],
   "source": [
    "\n",
    "# get_wing_performance(\n",
    "\n",
    "\n",
    "# ga_instance=loaded_ga_instance,\n",
    "\n",
    "\n",
    "# solution=loaded_ga_instance.best_solution()[0],\n",
    "\n",
    "\n",
    "# solution_idx=loaded_ga_instance.best_solution()[1])\n",
    "\n"
   ]
  },
  {
   "cell_type": "markdown",
   "metadata": {},
   "source": [
    "# Generate Planform Plots"
   ]
  },
  {
   "cell_type": "code",
   "execution_count": null,
   "metadata": {},
   "outputs": [],
   "source": [
    "generate_and_dump_planform_plots(\n",
    "    PlanformFilePath=Planform_Coordinate_File,\n",
    ")"
   ]
  },
  {
   "cell_type": "markdown",
   "metadata": {},
   "source": [
    "# Generate Airfoil Plots"
   ]
  },
  {
   "cell_type": "code",
   "execution_count": null,
   "metadata": {},
   "outputs": [],
   "source": [
    "Plot_Optimal = True"
   ]
  },
  {
   "cell_type": "code",
   "execution_count": null,
   "metadata": {},
   "outputs": [],
   "source": [
    "if Plot_Optimal:\n",
    "\n",
    "    generate_and_dump_airfoil_plot(\n",
    "        AirfoilFilePath=\"Data/OptimisationData/Station_1.dat\"\n",
    "    ) \n",
    "\n",
    "else:\n",
    "\n",
    "    generate_and_dump_airfoil_plot(AirfoilFilePath=Station_1_Airfoil_Coordinate_File)"
   ]
  },
  {
   "cell_type": "code",
   "execution_count": null,
   "metadata": {},
   "outputs": [],
   "source": [
    "if Plot_Optimal:\n",
    "    generate_and_dump_airfoil_plot(\n",
    "        AirfoilFilePath=\"Data/OptimisationData/Station_2.dat\"\n",
    "    )\n",
    "\n",
    "else:\n",
    "\n",
    "    generate_and_dump_airfoil_plot(AirfoilFilePath=Station_2_Airfoil_Coordinate_File)"
   ]
  },
  {
   "cell_type": "code",
   "execution_count": null,
   "metadata": {},
   "outputs": [],
   "source": [
    "if Plot_Optimal:\n",
    "    generate_and_dump_airfoil_plot(\n",
    "        AirfoilFilePath=\"Data/OptimisationData/Station_3.dat\"\n",
    "    )\n",
    "\n",
    "else:\n",
    "\n",
    "    generate_and_dump_airfoil_plot(AirfoilFilePath=Station_3_Airfoil_Coordinate_File)"
   ]
  },
  {
   "cell_type": "code",
   "execution_count": null,
   "metadata": {},
   "outputs": [],
   "source": [
    "if Plot_Optimal:\n",
    "    generate_and_dump_airfoil_plot(\n",
    "        AirfoilFilePath=\"Data/OptimisationData/Station_4.dat\"\n",
    "    )  \n",
    "\n",
    "else:\n",
    "\n",
    "    generate_and_dump_airfoil_plot(AirfoilFilePath=Station_4_Airfoil_Coordinate_File)"
   ]
  },
  {
   "cell_type": "code",
   "execution_count": null,
   "metadata": {},
   "outputs": [],
   "source": [
    "if Plot_Optimal:\n",
    "\n",
    "    generate_and_dump_airfoil_plot(\n",
    "        AirfoilFilePath=\"Data/OptimisationData/Station_5.dat\"\n",
    "    )\n",
    "else:\n",
    "    generate_and_dump_airfoil_plot(AirfoilFilePath=Station_5_Airfoil_Coordinate_File)"
   ]
  },
  {
   "cell_type": "code",
   "execution_count": null,
   "metadata": {},
   "outputs": [],
   "source": [
    "if Plot_Optimal:\n",
    "    generate_and_dump_airfoil_plot(\n",
    "        AirfoilFilePath=\"Data/OptimisationData/Station_6.dat\"\n",
    "    )\n",
    "else:\n",
    "    generate_and_dump_airfoil_plot(AirfoilFilePath=Station_6_Airfoil_Coordinate_File)"
   ]
  },
  {
   "cell_type": "markdown",
   "metadata": {},
   "source": [
    "# Generate Performance Plots"
   ]
  },
  {
   "cell_type": "code",
   "execution_count": null,
   "metadata": {},
   "outputs": [],
   "source": [
    "generate_performance_plots(PerformanceFilePath=Performance_Data_Path)"
   ]
  },
  {
   "cell_type": "markdown",
   "metadata": {},
   "source": [
    "# Adhoc"
   ]
  },
  {
   "cell_type": "code",
   "execution_count": null,
   "metadata": {},
   "outputs": [],
   "source": [
    "def airfoil_quality_penalty(X:np.array, Y: np.array, weight = 1e3):\n",
    "        \n",
    "    \n",
    "        x_upper = X[0 : int(len(X) / 2 + 1)]\n",
    "        y_upper = Y[0 : int(len(X) / 2 + 1)]\n",
    "\n",
    "        x_lower = X[int(len(X) / 2) :]\n",
    "        y_lower = Y[int(len(X) / 2) :]\n",
    "\n",
    "        \"\"\"# Determine Critical Curvature Points\"\"\"\n",
    "\n",
    "        grad_top = []\n",
    "        grad_bot = []\n",
    "        top_grad_change = []\n",
    "        bot_grad_change = []\n",
    "\n",
    "        for i in range(1, len(x_upper)):\n",
    "            grad_top.append(((y_upper[i - 1] - y_upper[i]) / (x_upper[i - 1] - x_upper[i])))\n",
    "            grad_bot.append(((y_lower[i - 1] - y_lower[i]) / (x_lower[i - 1] - x_lower[i])))\n",
    "\n",
    "        for i in range(1, len(grad_top)):\n",
    "            if ((grad_top[i] < 0) & (grad_top[i - 1] > 0)) or (\n",
    "                (grad_top[i] > 0) & (grad_top[i - 1] < 0)\n",
    "            ):\n",
    "                top_grad_change.append(i)\n",
    "            if ((grad_bot[i] < 0) & (grad_bot[i - 1] > 0)) or (\n",
    "                (grad_bot[i] > 0) & (grad_bot[i - 1] < 0)\n",
    "            ):\n",
    "                bot_grad_change.append(i)\n",
    "\n",
    "        return grad_top, grad_bot, top_grad_change, bot_grad_change"
   ]
  },
  {
   "cell_type": "code",
   "execution_count": null,
   "metadata": {},
   "outputs": [],
   "source": [
    "# X = np.loadtxt(Station_1_Airfoil_Coordinate_File).T[0]\n",
    "# Y = np.loadtxt(Station_1_Airfoil_Coordinate_File).T[1]\n",
    "\n",
    "X = np.loadtxt(\"Data/OptimisationData/Station_6.dat\").T[0]\n",
    "Y = np.loadtxt(\"Data/OptimisationData/Station_6.dat\").T[1]\n"
   ]
  },
  {
   "cell_type": "code",
   "execution_count": null,
   "metadata": {},
   "outputs": [],
   "source": [
    "grad_top, grad_bot, top_grad_change, bot_grad_change = airfoil_quality_penalty(X,\n",
    "                        Y, \n",
    "                        weight = 1e3)"
   ]
  },
  {
   "cell_type": "code",
   "execution_count": null,
   "metadata": {},
   "outputs": [],
   "source": [
    "x_upper = X[0 : int(len(X) / 2 + 1)]\n",
    "y_upper = Y[0 : int(len(X) / 2 + 1)]\n",
    "\n",
    "x_lower = X[int(len(X) / 2) :]\n",
    "y_lower = Y[int(len(X) / 2) :]"
   ]
  },
  {
   "cell_type": "code",
   "execution_count": null,
   "metadata": {},
   "outputs": [],
   "source": [
    "bot_grad_change"
   ]
  },
  {
   "cell_type": "code",
   "execution_count": null,
   "metadata": {},
   "outputs": [],
   "source": [
    "top_grad_change"
   ]
  },
  {
   "cell_type": "code",
   "execution_count": null,
   "metadata": {},
   "outputs": [],
   "source": [
    "# Plot top and bottom critical points\n",
    "\n",
    "plt.plot(x_upper,y_upper, c=\"darkred\", label=\"Sampled\")\n",
    "plt.plot(x_lower,y_lower, c=\"darkred\")\n",
    "for tp in top_grad_change:\n",
    "    plt.plot(x_upper[tp],y_upper[tp], \"o\", c=\"darkblue\")\n",
    "for bp in bot_grad_change:\n",
    "    plt.plot(x_lower[bp],y_lower[bp], \"o\", c=\"darkblue\")\n",
    "# plt.axis(\"equal\")\n",
    "plt.show()"
   ]
  },
  {
   "cell_type": "markdown",
   "metadata": {},
   "source": [
    "# Smooth Airfoil"
   ]
  },
  {
   "cell_type": "code",
   "execution_count": null,
   "metadata": {},
   "outputs": [],
   "source": [
    "from aerosandbox.geometry.airfoil.airfoil_families import get_kulfan_parameters, get_kulfan_coordinates"
   ]
  },
  {
   "cell_type": "code",
   "execution_count": null,
   "metadata": {},
   "outputs": [],
   "source": [
    "for i in range(1,7):\n",
    "    X = np.loadtxt(F\"Data/OptimisationData/Station_{i}.dat\").T[0]\n",
    "    Y = np.loadtxt(F\"Data/OptimisationData/Station_{i}.dat\").T[1]\n",
    "    stack = np.vstack([X,Y]).T\n",
    "    wte =get_kulfan_parameters(coordinates=stack)\n",
    "    crds = get_kulfan_coordinates(lower_weights=wte[\"lower_weights\"], \n",
    "                              upper_weights=wte[\"upper_weights\"], \n",
    "                              TE_thickness=wte[\"TE_thickness\"], \n",
    "                              leading_edge_weight=wte[\"leading_edge_weight\"],\n",
    "                              n_points_per_side=100)\n",
    "    np.savetxt(X=crds,fname=F\"/home/megi/Station_{i}_Smooth.dat\")"
   ]
  },
  {
   "cell_type": "markdown",
   "metadata": {},
   "source": [
    "# Run Comparative Analysis (Ad-hoc)"
   ]
  },
  {
   "cell_type": "code",
   "execution_count": 11,
   "metadata": {},
   "outputs": [],
   "source": [
    "import pyfoil"
   ]
  },
  {
   "cell_type": "code",
   "execution_count": 12,
   "metadata": {},
   "outputs": [],
   "source": [
    "st_6_opt  = pyfoil.Airfoil.import_from_dat(\"/home/megi/Station_6_Smooth.dat\").resample(170)\n",
    "st_6_base = pyfoil.Airfoil.import_from_dat(\"/home/megi/Downloads/Airfoil_Station_6_smooth.dat\").resample(170)"
   ]
  },
  {
   "cell_type": "code",
   "execution_count": 15,
   "metadata": {},
   "outputs": [],
   "source": [
    "aoa_start = -25\n",
    "aoa_stop=25\n",
    "steps = 30\n",
    "df_6_opt = st_6_opt.xfoil_polar(aoa_start=aoa_start, aoa_end=aoa_stop, steps=steps, degree=True)\n",
    "df_6_base = st_6_base.xfoil_polar(aoa_start=aoa_start, aoa_end=aoa_stop, steps=steps, degree=True)"
   ]
  },
  {
   "cell_type": "code",
   "execution_count": 17,
   "metadata": {},
   "outputs": [
    {
     "ename": "NameError",
     "evalue": "name 'plt' is not defined",
     "output_type": "error",
     "traceback": [
      "\u001b[0;31m---------------------------------------------------------------------------\u001b[0m",
      "\u001b[0;31mNameError\u001b[0m                                 Traceback (most recent call last)",
      "Cell \u001b[0;32mIn[17], line 1\u001b[0m\n\u001b[0;32m----> 1\u001b[0m \u001b[43mplt\u001b[49m\u001b[38;5;241m.\u001b[39mplot(df_6_opt[\u001b[38;5;124m\"\u001b[39m\u001b[38;5;124maoa\u001b[39m\u001b[38;5;124m\"\u001b[39m], df_6_opt[\u001b[38;5;124m\"\u001b[39m\u001b[38;5;124mcl\u001b[39m\u001b[38;5;124m\"\u001b[39m]\u001b[38;5;241m/\u001b[39mdf_6_opt[\u001b[38;5;124m\"\u001b[39m\u001b[38;5;124mcd\u001b[39m\u001b[38;5;124m\"\u001b[39m], label\u001b[38;5;241m=\u001b[39m\u001b[38;5;124m\"\u001b[39m\u001b[38;5;124mOptimised\u001b[39m\u001b[38;5;124m\"\u001b[39m)\n\u001b[1;32m      2\u001b[0m plt\u001b[38;5;241m.\u001b[39mplot(df_6_base[\u001b[38;5;124m\"\u001b[39m\u001b[38;5;124maoa\u001b[39m\u001b[38;5;124m\"\u001b[39m], df_6_base[\u001b[38;5;124m\"\u001b[39m\u001b[38;5;124mcl\u001b[39m\u001b[38;5;124m\"\u001b[39m]\u001b[38;5;241m/\u001b[39mdf_6_base[\u001b[38;5;124m\"\u001b[39m\u001b[38;5;124mcd\u001b[39m\u001b[38;5;124m\"\u001b[39m], label\u001b[38;5;241m=\u001b[39m\u001b[38;5;124m\"\u001b[39m\u001b[38;5;124mBaseline-PhD\u001b[39m\u001b[38;5;124m\"\u001b[39m)\n\u001b[1;32m      3\u001b[0m plt\u001b[38;5;241m.\u001b[39mgrid()\n",
      "\u001b[0;31mNameError\u001b[0m: name 'plt' is not defined"
     ]
    }
   ],
   "source": [
    "plt.plot(df_6_opt[\"aoa\"], df_6_opt[\"cl\"]/df_6_opt[\"cd\"], label=\"Optimised\")\n",
    "plt.plot(df_6_base[\"aoa\"], df_6_base[\"cl\"]/df_6_base[\"cd\"], label=\"Baseline-PhD\")\n",
    "plt.grid()\n",
    "plt.legend()\n",
    "plt.show()"
   ]
  }
 ],
 "metadata": {
  "kernelspec": {
   "display_name": "postdoc_tensorflow",
   "language": "python",
   "name": "python3"
  },
  "language_info": {
   "codemirror_mode": {
    "name": "ipython",
    "version": 3
   },
   "file_extension": ".py",
   "mimetype": "text/x-python",
   "name": "python",
   "nbconvert_exporter": "python",
   "pygments_lexer": "ipython3",
   "version": "3.10.12"
  }
 },
 "nbformat": 4,
 "nbformat_minor": 2
}
